{
 "cells": [
  {
   "cell_type": "code",
   "execution_count": 1,
   "metadata": {},
   "outputs": [],
   "source": [
    "# We are NOW going to make a Lotto Machine\n",
    "\n",
    "bank = 100\n",
    "\n",
    "import random\n",
    "\n",
    "def lucky_num():\n",
    "\n",
    "    lucky_list = []\n",
    "    \n",
    "    print('Please enter your 3 lucky numbers: ')\n",
    "    for i in range(0,3):\n",
    "        n = [input()]\n",
    "        lucky_list.append(n)\n",
    "\n",
    "    return lucky_list\n",
    "\n",
    "def lotto():\n",
    "    \n",
    "    lotto_num = []\n",
    "    \n",
    "    for num in range(0,3):\n",
    "        lotto_num.append(random.randint(0,100))\n",
    "    \n",
    "    \n",
    "    print('Numbers for the lotto are:')\n",
    "    return lotto_num\n"
   ]
  },
  {
   "cell_type": "code",
   "execution_count": 3,
   "metadata": {},
   "outputs": [
    {
     "name": "stdout",
     "output_type": "stream",
     "text": [
      "Would you like to play?[Y or N]: Y\n",
      "You have been charged 10$!\n",
      "Your new balance is 90\n",
      "Please enter your 3 lucky numbers: \n",
      "30\n",
      "40\n",
      "20\n",
      "Lotto Day! The numbers are going to be picked!\n",
      "Numbers for the lotto are:\n",
      "[31, 71, 83]\n",
      "You loose!\n",
      "Would you like to play?[Y or N]: N\n"
     ]
    }
   ],
   "source": [
    "lotto_game = True\n",
    "\n",
    "while lotto_game:\n",
    "    \n",
    "    # Do you want to continue?\n",
    "    \n",
    "    game_on = ''\n",
    "    \n",
    "    while game_on not in ['Y','N']:\n",
    "    \n",
    "        game_on = input('Would you like to play?[Y or N]: ')\n",
    "    \n",
    "        if game_on not in ['Y','N']:\n",
    "            print('Please enter Y or N!')\n",
    "    \n",
    "    if game_on == 'N':\n",
    "        break\n",
    "\n",
    "    \n",
    "    # Expense Bank account\n",
    "    \n",
    "    print('You have been charged 10$!')\n",
    "    bank -= 10\n",
    "    \n",
    "    print('Your new balance is {}'.format(bank))\n",
    "    \n",
    "    # Select your numbers!\n",
    "    \n",
    "    p_num = lucky_num()\n",
    "    \n",
    "    print('Lotto Day! The numbers are going to be picked!')\n",
    "    \n",
    "    lotto_day = lotto()\n",
    "    \n",
    "    print(lotto_day)\n",
    "    \n",
    "    # Check if player has won the game!\n",
    "    \n",
    "    if p_num not in lotto_day:\n",
    "        print('You loose!')\n",
    "        \n",
    "    else:\n",
    "        print('Player has won 1 million dollars!')\n",
    "        bank += 1000000\n",
    "        print('Bank Balance:{}'.format(bank))\n",
    "            "
   ]
  },
  {
   "cell_type": "code",
   "execution_count": null,
   "metadata": {},
   "outputs": [],
   "source": []
  }
 ],
 "metadata": {
  "kernelspec": {
   "display_name": "Python 3",
   "language": "python",
   "name": "python3"
  },
  "language_info": {
   "codemirror_mode": {
    "name": "ipython",
    "version": 3
   },
   "file_extension": ".py",
   "mimetype": "text/x-python",
   "name": "python",
   "nbconvert_exporter": "python",
   "pygments_lexer": "ipython3",
   "version": "3.8.5"
  }
 },
 "nbformat": 4,
 "nbformat_minor": 4
}
